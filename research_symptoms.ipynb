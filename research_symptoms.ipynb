{
 "cells": [
  {
   "cell_type": "code",
   "execution_count": 1,
   "id": "b4ec7a1e-844b-4890-9a5b-1327e8649e72",
   "metadata": {},
   "outputs": [
    {
     "data": {
      "text/html": [
       "<div>\n",
       "<style scoped>\n",
       "    .dataframe tbody tr th:only-of-type {\n",
       "        vertical-align: middle;\n",
       "    }\n",
       "\n",
       "    .dataframe tbody tr th {\n",
       "        vertical-align: top;\n",
       "    }\n",
       "\n",
       "    .dataframe thead th {\n",
       "        text-align: right;\n",
       "    }\n",
       "</style>\n",
       "<table border=\"1\" class=\"dataframe\">\n",
       "  <thead>\n",
       "    <tr style=\"text-align: right;\">\n",
       "      <th></th>\n",
       "      <th>Symptom</th>\n",
       "      <th>Disease</th>\n",
       "      <th>Disease group (English name)</th>\n",
       "      <th>Disease group (Sinhala name)</th>\n",
       "      <th>Dosha types</th>\n",
       "    </tr>\n",
       "  </thead>\n",
       "  <tbody>\n",
       "    <tr>\n",
       "      <th>0</th>\n",
       "      <td>Fever</td>\n",
       "      <td>Jvara</td>\n",
       "      <td>Endogenous</td>\n",
       "      <td>Nija Roga</td>\n",
       "      <td>Pitta</td>\n",
       "    </tr>\n",
       "    <tr>\n",
       "      <th>1</th>\n",
       "      <td>Chills with fever</td>\n",
       "      <td>Jvara</td>\n",
       "      <td>Endogenous</td>\n",
       "      <td>Nija Roga</td>\n",
       "      <td>Vata and Pitta</td>\n",
       "    </tr>\n",
       "    <tr>\n",
       "      <th>2</th>\n",
       "      <td>Sweating</td>\n",
       "      <td>Jvara</td>\n",
       "      <td>Endogenous</td>\n",
       "      <td>Nija Roga</td>\n",
       "      <td>Pitta</td>\n",
       "    </tr>\n",
       "    <tr>\n",
       "      <th>3</th>\n",
       "      <td>Thirst with fever</td>\n",
       "      <td>Jvara</td>\n",
       "      <td>Endogenous</td>\n",
       "      <td>Nija Roga</td>\n",
       "      <td>Pitta</td>\n",
       "    </tr>\n",
       "    <tr>\n",
       "      <th>4</th>\n",
       "      <td>Loss of appetite</td>\n",
       "      <td>Ajeerna</td>\n",
       "      <td>Endogenous</td>\n",
       "      <td>Nija Roga</td>\n",
       "      <td>Kapha</td>\n",
       "    </tr>\n",
       "  </tbody>\n",
       "</table>\n",
       "</div>"
      ],
      "text/plain": [
       "             Symptom  Disease Disease group (English name)  \\\n",
       "0              Fever    Jvara                   Endogenous   \n",
       "1  Chills with fever    Jvara                   Endogenous   \n",
       "2           Sweating    Jvara                   Endogenous   \n",
       "3  Thirst with fever    Jvara                   Endogenous   \n",
       "4   Loss of appetite  Ajeerna                   Endogenous   \n",
       "\n",
       "  Disease group (Sinhala name)     Dosha types  \n",
       "0                    Nija Roga           Pitta  \n",
       "1                    Nija Roga  Vata and Pitta  \n",
       "2                    Nija Roga           Pitta  \n",
       "3                    Nija Roga           Pitta  \n",
       "4                    Nija Roga           Kapha  "
      ]
     },
     "execution_count": 1,
     "metadata": {},
     "output_type": "execute_result"
    }
   ],
   "source": [
    "import pandas as pd\n",
    "\n",
    "# Load the CSV file\n",
    "df = pd.read_csv(\"data/symptoms.csv\")\n",
    "\n",
    "# Show the first 5 rows\n",
    "df.head()"
   ]
  },
  {
   "cell_type": "code",
   "execution_count": 2,
   "id": "7191319e-f794-4807-8967-6b1409342743",
   "metadata": {},
   "outputs": [
    {
     "data": {
      "text/plain": [
       "Disease group (English name)\n",
       "Endogenous               149\n",
       "Sweat                    113\n",
       "Hereditary                98\n",
       "Respiratory               90\n",
       "thermoregulation          90\n",
       "Reproductive – female     86\n",
       "Exogenous                 85\n",
       "Somatic                   85\n",
       "Digestive                 84\n",
       "Seasonal                  82\n",
       "Musculoskeletal           74\n",
       "Nervous                   70\n",
       "Mental                    66\n",
       "Incurable                 66\n",
       "Cardio-blood              64\n",
       "Over-nutrition            53\n",
       "Natural                   52\n",
       "External                  46\n",
       "Urinary                   42\n",
       "Internal                  41\n",
       "Reproductive – male       40\n",
       "Under-nutrition           37\n",
       "Curable                   35\n",
       "Congenital                34\n",
       "Obesity                   34\n",
       "Middle                    34\n",
       "Psychosomatic             27\n",
       "Metabolic                 18\n",
       "Name: count, dtype: int64"
      ]
     },
     "execution_count": 2,
     "metadata": {},
     "output_type": "execute_result"
    }
   ],
   "source": [
    "df[\"Disease group (English name)\"].value_counts()"
   ]
  },
  {
   "cell_type": "code",
   "execution_count": 3,
   "id": "84cfdad1-35d9-446f-a7f8-8262e3769ba7",
   "metadata": {},
   "outputs": [
    {
     "data": {
      "text/plain": [
       "Disease group (Sinhala name)\n",
       "Sveda-vāha         203\n",
       "Nija Roga          149\n",
       "Sahaja              98\n",
       "Prāṇavāha           90\n",
       "Artava-vāha         86\n",
       "Śārīrika            85\n",
       "Āgantuka Roga       85\n",
       "Annavāha            84\n",
       "Asthi-vāha          74\n",
       "Majjā-vāha          70\n",
       "Mānāsika            66\n",
       "Asādhya             66\n",
       "Rasa/Rakta-vāha     64\n",
       "Santarpanajanya     53\n",
       "Medo-vāha           52\n",
       "Svabhavaja          52\n",
       "Ageing              51\n",
       "Bāhya               46\n",
       "Mutra-vāha          42\n",
       "Abhyantara          41\n",
       "Śukra-vāha          40\n",
       "Apatarpanajanya     37\n",
       "Sādhya              35\n",
       "Madhyama            34\n",
       "Garbhaja            34\n",
       "Kālaja              31\n",
       "Manodaihika         27\n",
       "Name: count, dtype: int64"
      ]
     },
     "execution_count": 3,
     "metadata": {},
     "output_type": "execute_result"
    }
   ],
   "source": [
    "df[\"Disease group (Sinhala name)\"].value_counts()"
   ]
  },
  {
   "cell_type": "code",
   "execution_count": 4,
   "id": "53e5d648-2c2c-4606-9b9d-39c71ab30888",
   "metadata": {},
   "outputs": [
    {
     "data": {
      "text/plain": [
       "Disease\n",
       "Shvāsa             49\n",
       "Atisveda           30\n",
       "Shotha             24\n",
       "Sthoulya           22\n",
       "Prameha            22\n",
       "                   ..\n",
       "Mamsagata Vata      1\n",
       "Rasa Agnimandya     1\n",
       "Pittaja Kushta      1\n",
       "Janu Shoola         1\n",
       "Sphurana            1\n",
       "Name: count, Length: 618, dtype: int64"
      ]
     },
     "execution_count": 4,
     "metadata": {},
     "output_type": "execute_result"
    }
   ],
   "source": [
    "df[\"Disease\"].value_counts()"
   ]
  },
  {
   "cell_type": "code",
   "execution_count": 5,
   "id": "984600cd-0ad8-4dc8-81bb-68c9ce089810",
   "metadata": {},
   "outputs": [
    {
     "data": {
      "text/plain": [
       "Dosha types\n",
       "Vata               764\n",
       "Kapha              403\n",
       "Pitta              382\n",
       "Vata and Pitta     102\n",
       "Vata and Kapha      91\n",
       "Pitta and Kapha     42\n",
       "Tridosha            11\n",
       "Name: count, dtype: int64"
      ]
     },
     "execution_count": 5,
     "metadata": {},
     "output_type": "execute_result"
    }
   ],
   "source": [
    "df[\"Dosha types\"].value_counts()"
   ]
  },
  {
   "cell_type": "code",
   "execution_count": 6,
   "id": "cba0b208-1437-4fd5-b745-7d061c6eef7a",
   "metadata": {},
   "outputs": [
    {
     "name": "stdout",
     "output_type": "stream",
     "text": [
      "             Symptom  Disease Disease group (English name)  \\\n",
      "0              Fever    Jvara                   Endogenous   \n",
      "1  Chills with fever    Jvara                   Endogenous   \n",
      "2           Sweating    Jvara                   Endogenous   \n",
      "3  Thirst with fever    Jvara                   Endogenous   \n",
      "4   Loss of appetite  Ajeerna                   Endogenous   \n",
      "\n",
      "  Disease group (Sinhala name)     Dosha types  \n",
      "0                    Nija Roga           Pitta  \n",
      "1                    Nija Roga  Vata and Pitta  \n",
      "2                    Nija Roga           Pitta  \n",
      "3                    Nija Roga           Pitta  \n",
      "4                    Nija Roga           Kapha  \n",
      "Shape of data: (1795, 5)\n",
      "Columns: ['Symptom', 'Disease', 'Disease group (English name)', 'Disease group (Sinhala name)', 'Dosha types']\n",
      "\n",
      "Missing values in each column:\n",
      " Symptom                         0\n",
      "Disease                         0\n",
      "Disease group (English name)    0\n",
      "Disease group (Sinhala name)    0\n",
      "Dosha types                     0\n",
      "dtype: int64\n"
     ]
    }
   ],
   "source": [
    "# Step 1: Load and Explore Data\n",
    "\n",
    "import pandas as pd\n",
    "\n",
    "# Load the CSV file (update the path if needed)\n",
    "df = pd.read_csv(\"data/symptoms.csv\")\n",
    "\n",
    "# Show the first 5 rows (to get a quick look at the data)\n",
    "print(df.head())\n",
    "\n",
    "# Show the number of rows and columns\n",
    "print(\"Shape of data:\", df.shape)\n",
    "\n",
    "# Show column names\n",
    "print(\"Columns:\", df.columns.tolist())\n",
    "\n",
    "# Check for missing values\n",
    "print(\"\\nMissing values in each column:\\n\", df.isnull().sum())"
   ]
  },
  {
   "cell_type": "code",
   "execution_count": 7,
   "id": "2b5d8536-4849-42f3-aeac-7eb1e525811a",
   "metadata": {},
   "outputs": [
    {
     "name": "stdout",
     "output_type": "stream",
     "text": [
      "TF-IDF matrix shape: (1795, 1157)\n"
     ]
    }
   ],
   "source": [
    "# Step 2: Convert symptoms (text) into numbers using TF-IDF\n",
    "\n",
    "from sklearn.feature_extraction.text import TfidfVectorizer\n",
    "\n",
    "# Select the text column (symptoms)\n",
    "X = df[\"Symptom\"]\n",
    "\n",
    "# Create a TF-IDF Vectorizer\n",
    "vectorizer = TfidfVectorizer()\n",
    "\n",
    "# Fit the vectorizer and transform the symptoms\n",
    "X_vectorized = vectorizer.fit_transform(X)\n",
    "\n",
    "# Show the shape of the resulting matrix\n",
    "print(\"TF-IDF matrix shape:\", X_vectorized.shape)"
   ]
  },
  {
   "cell_type": "code",
   "execution_count": 8,
   "id": "8692fce6-798d-436a-91cb-94fcfa3717de",
   "metadata": {},
   "outputs": [
    {
     "name": "stdout",
     "output_type": "stream",
     "text": [
      "Logistic Regression: 68.86%\n",
      "Random Forest: 99.44%\n",
      "Decision Tree: 99.44%\n"
     ]
    }
   ],
   "source": [
    "# Step 3: Training and evaluating different models\n",
    "\n",
    "from sklearn.feature_extraction.text import TfidfVectorizer\n",
    "from sklearn.pipeline import Pipeline\n",
    "from sklearn.linear_model import LogisticRegression\n",
    "from sklearn.ensemble import RandomForestClassifier\n",
    "from sklearn.tree import DecisionTreeClassifier\n",
    "from sklearn.metrics import accuracy_score\n",
    "\n",
    "# Features (X) = Symptoms\n",
    "X = df[\"Symptom\"]\n",
    "\n",
    "# Labels (y) = Disease group (English name) for now\n",
    "y = df[\"Disease group (English name)\"]\n",
    "\n",
    "# Define the models we want to test\n",
    "models = {\n",
    "    \"Logistic Regression\": LogisticRegression(max_iter=1000),\n",
    "    \"Random Forest\": RandomForestClassifier(n_estimators=200),\n",
    "    \"Decision Tree\": DecisionTreeClassifier()\n",
    "}\n",
    "\n",
    "# Train and evaluate each model\n",
    "for name, clf in models.items():\n",
    "    pipe = Pipeline([\n",
    "        (\"tfidf\", TfidfVectorizer()),  # Step 1: Convert text to numbers\n",
    "        (\"clf\", clf)                   # Step 2: Train model\n",
    "    ])\n",
    "    pipe.fit(X, y)                      # Train\n",
    "    y_pred = pipe.predict(X)            # Predict on same data\n",
    "    acc = accuracy_score(y, y_pred)     # Check accuracy\n",
    "    print(f\"{name}: {acc:.2%}\")"
   ]
  },
  {
   "cell_type": "code",
   "execution_count": 9,
   "id": "d39d1b78-c486-4015-a7da-f604e7c8ca5d",
   "metadata": {},
   "outputs": [
    {
     "name": "stdout",
     "output_type": "stream",
     "text": [
      "Logistic Regression: 69.47%\n",
      "Random Forest: 99.44%\n",
      "Decision Tree: 99.44%\n"
     ]
    }
   ],
   "source": [
    "# Step 3: Training and evaluating different models\n",
    "\n",
    "from sklearn.feature_extraction.text import TfidfVectorizer\n",
    "from sklearn.pipeline import Pipeline\n",
    "from sklearn.linear_model import LogisticRegression\n",
    "from sklearn.ensemble import RandomForestClassifier\n",
    "from sklearn.tree import DecisionTreeClassifier\n",
    "from sklearn.metrics import accuracy_score\n",
    "\n",
    "# Features (X) = Symptoms\n",
    "X = df[\"Symptom\"]\n",
    "\n",
    "# Labels (y) = Disease group (English name) for now\n",
    "y = df[\"Disease group (Sinhala name)\"]\n",
    "\n",
    "# Define the models we want to test\n",
    "models = {\n",
    "    \"Logistic Regression\": LogisticRegression(max_iter=1000),\n",
    "    \"Random Forest\": RandomForestClassifier(n_estimators=200),\n",
    "    \"Decision Tree\": DecisionTreeClassifier()\n",
    "}\n",
    "\n",
    "# Train and evaluate each model\n",
    "for name, clf in models.items():\n",
    "    pipe = Pipeline([\n",
    "        (\"tfidf\", TfidfVectorizer()),  # Step 1: Convert text to numbers\n",
    "        (\"clf\", clf)                   # Step 2: Train model\n",
    "    ])\n",
    "    pipe.fit(X, y)                      # Train\n",
    "    y_pred = pipe.predict(X)            # Predict on same data\n",
    "    acc = accuracy_score(y, y_pred)     # Check accuracy\n",
    "    print(f\"{name}: {acc:.2%}\")\n"
   ]
  },
  {
   "cell_type": "code",
   "execution_count": 10,
   "id": "cd2e746a-f64e-4499-bcdb-ac78ec81ca9b",
   "metadata": {},
   "outputs": [
    {
     "name": "stdout",
     "output_type": "stream",
     "text": [
      "Logistic Regression: 80.56%\n",
      "Random Forest: 99.83%\n",
      "Decision Tree: 99.83%\n"
     ]
    }
   ],
   "source": [
    "# Step 3: Training and evaluating different models\n",
    "\n",
    "from sklearn.feature_extraction.text import TfidfVectorizer\n",
    "from sklearn.pipeline import Pipeline\n",
    "from sklearn.linear_model import LogisticRegression\n",
    "from sklearn.ensemble import RandomForestClassifier\n",
    "from sklearn.tree import DecisionTreeClassifier\n",
    "from sklearn.metrics import accuracy_score\n",
    "\n",
    "# Features (X) = Symptoms\n",
    "X = df[\"Symptom\"]\n",
    "\n",
    "# Labels (y) = Disease group (English name) for now\n",
    "y = df[\"Dosha types\"]\n",
    "\n",
    "# Define the models we want to test\n",
    "models = {\n",
    "    \"Logistic Regression\": LogisticRegression(max_iter=1000),\n",
    "    \"Random Forest\": RandomForestClassifier(n_estimators=200),\n",
    "    \"Decision Tree\": DecisionTreeClassifier()\n",
    "}\n",
    "\n",
    "# Train and evaluate each model\n",
    "for name, clf in models.items():\n",
    "    pipe = Pipeline([\n",
    "        (\"tfidf\", TfidfVectorizer()),  # Step 1: Convert text to numbers\n",
    "        (\"clf\", clf)                   # Step 2: Train model\n",
    "    ])\n",
    "    pipe.fit(X, y)                      # Train\n",
    "    y_pred = pipe.predict(X)            # Predict on same data\n",
    "    acc = accuracy_score(y, y_pred)     # Check accuracy\n",
    "    print(f\"{name}: {acc:.2%}\")\n"
   ]
  },
  {
   "cell_type": "code",
   "execution_count": 11,
   "id": "7d65fc20-6b9a-4227-95dd-aa1d9070f268",
   "metadata": {},
   "outputs": [
    {
     "name": "stdout",
     "output_type": "stream",
     "text": [
      "Saved: disease_prediction_model_en_group.pkl\n"
     ]
    }
   ],
   "source": [
    "# ---------- English Group Model ----------\n",
    "import numpy as np\n",
    "import joblib\n",
    "import pandas as pd\n",
    "from sklearn.pipeline import Pipeline\n",
    "from sklearn.feature_extraction.text import TfidfVectorizer\n",
    "from sklearn.linear_model import LogisticRegression\n",
    "\n",
    "# Load your dataset\n",
    "df = pd.read_csv(\"data/symptoms.csv\")   # adjust path to your CSV\n",
    "\n",
    "X_en = df[\"Symptom\"].astype(str)\n",
    "y_en = df[\"Disease group (English name)\"]\n",
    "\n",
    "pipeline_en = Pipeline([\n",
    "    (\"tfidf\", TfidfVectorizer(\n",
    "        stop_words=\"english\",\n",
    "        lowercase=True,\n",
    "        ngram_range=(1, 2),\n",
    "        max_features=50_000,\n",
    "        dtype=np.float32\n",
    "    )),\n",
    "    (\"clf\", LogisticRegression(\n",
    "        solver=\"saga\",\n",
    "        max_iter=300,\n",
    "        C=2.0,\n",
    "        n_jobs=-1\n",
    "    ))\n",
    "])\n",
    "\n",
    "pipeline_en.fit(X_en, y_en)\n",
    "joblib.dump(pipeline_en, \"disease_prediction_model_en_group.pkl\", compress=3)\n",
    "print(\"Saved: disease_prediction_model_en_group.pkl\")"
   ]
  },
  {
   "cell_type": "code",
   "execution_count": 12,
   "id": "ae740bf3-c45c-406a-877d-8b0ac1aa7b3b",
   "metadata": {},
   "outputs": [
    {
     "name": "stdout",
     "output_type": "stream",
     "text": [
      "Saved: disease_prediction_model_si_group.pkl\n"
     ]
    }
   ],
   "source": [
    "# ---------- Sinhala Group Model ----------\n",
    "import numpy as np\n",
    "import joblib\n",
    "import pandas as pd\n",
    "from sklearn.pipeline import Pipeline\n",
    "from sklearn.feature_extraction.text import TfidfVectorizer\n",
    "from sklearn.linear_model import LogisticRegression\n",
    "\n",
    "df = pd.read_csv(\"data/symptoms.csv\")   # adjust if needed\n",
    "\n",
    "X_si = df[\"Symptom\"].astype(str)\n",
    "y_si = df[\"Disease group (Sinhala name)\"]   # change if your column is named differently\n",
    "\n",
    "pipeline_si = Pipeline([\n",
    "    (\"tfidf\", TfidfVectorizer(\n",
    "        lowercase=True,\n",
    "        ngram_range=(1, 2),\n",
    "        max_features=50_000,\n",
    "        dtype=np.float32\n",
    "    )),\n",
    "    (\"clf\", LogisticRegression(\n",
    "        solver=\"saga\",\n",
    "        max_iter=300,\n",
    "        C=2.0,\n",
    "        n_jobs=-1\n",
    "    ))\n",
    "])\n",
    "\n",
    "pipeline_si.fit(X_si, y_si)\n",
    "joblib.dump(pipeline_si, \"disease_prediction_model_si_group.pkl\", compress=3)  # keep same filename you used\n",
    "print(\"Saved: disease_prediction_model_si_group.pkl\")\n"
   ]
  },
  {
   "cell_type": "code",
   "execution_count": null,
   "id": "b72e2fab-38ce-492d-af73-24f644ac3023",
   "metadata": {},
   "outputs": [
    {
     "name": "stdout",
     "output_type": "stream",
     "text": [
      "Saved: disease_prediction_model_disease.pkl\n"
     ]
    }
   ],
   "source": [
    "# ---------- Disease Model ----------\n",
    "import numpy as np\n",
    "import joblib\n",
    "import pandas as pd\n",
    "from sklearn.pipeline import Pipeline\n",
    "from sklearn.feature_extraction.text import TfidfVectorizer\n",
    "from sklearn.linear_model import LogisticRegression\n",
    "\n",
    "df = pd.read_csv(\"data/symptoms.csv\")\n",
    "\n",
    "X_disease = df[\"Symptom\"].astype(str)\n",
    "y_disease = df[\"Disease\"]\n",
    "\n",
    "pipeline_disease = Pipeline([\n",
    "    (\"tfidf\", TfidfVectorizer(\n",
    "        stop_words=\"english\",\n",
    "        lowercase=True,\n",
    "        ngram_range=(1, 2),\n",
    "        max_features=50_000,\n",
    "        dtype=np.float32\n",
    "    )),\n",
    "    (\"clf\", LogisticRegression(\n",
    "        solver=\"saga\",\n",
    "        max_iter=300,\n",
    "        C=2.0,\n",
    "        n_jobs=-1\n",
    "    ))\n",
    "])\n",
    "\n",
    "pipeline_disease.fit(X_disease, y_disease)\n",
    "joblib.dump(pipeline_disease, \"disease_prediction_model_disease.pkl\", compress=3)\n",
    "print(\"Saved: \")\n"
   ]
  },
  {
   "cell_type": "code",
   "execution_count": 15,
   "id": "048c30ae-3231-4263-9753-e107e2ca8f83",
   "metadata": {},
   "outputs": [
    {
     "name": "stdout",
     "output_type": "stream",
     "text": [
      "Saved: dosha_classification_model.pkl\n"
     ]
    }
   ],
   "source": [
    "# ---------- Dosha Model ----------\n",
    "import numpy as np\n",
    "import joblib\n",
    "import pandas as pd\n",
    "from sklearn.pipeline import Pipeline\n",
    "from sklearn.feature_extraction.text import TfidfVectorizer\n",
    "from sklearn.linear_model import LogisticRegression\n",
    "\n",
    "df = pd.read_csv(\"data/symptoms.csv\")\n",
    "\n",
    "X_dosha = df[\"Symptom\"].astype(str)\n",
    "y_dosha = df[\"Dosha types\"]   # adjust if column has a different name\n",
    "\n",
    "pipeline_dosha = Pipeline([\n",
    "    (\"tfidf\", TfidfVectorizer(\n",
    "        stop_words=\"english\",\n",
    "        lowercase=True,\n",
    "        ngram_range=(1, 2),\n",
    "        max_features=50_000,\n",
    "        dtype=np.float32\n",
    "    )),\n",
    "    (\"clf\", LogisticRegression(\n",
    "        solver=\"saga\",\n",
    "        max_iter=300,\n",
    "        C=2.0,\n",
    "        n_jobs=-1\n",
    "    ))\n",
    "])\n",
    "\n",
    "pipeline_dosha.fit(X_dosha, y_dosha)\n",
    "joblib.dump(pipeline_dosha, \"dosha_classification_model.pkl\", compress=3)\n",
    "print(\"Saved: dosha_classification_model.pkl\")\n"
   ]
  },
  {
   "cell_type": "code",
   "execution_count": 16,
   "id": "23895b54-a241-43d5-9a98-3c8071ff01ce",
   "metadata": {},
   "outputs": [
    {
     "name": "stdout",
     "output_type": "stream",
     "text": [
      "Requirement already satisfied: ipywidgets in d:\\softwares\\python\\lib\\site-packages (8.1.7)\n",
      "Requirement already satisfied: comm>=0.1.3 in d:\\softwares\\python\\lib\\site-packages (from ipywidgets) (0.2.2)\n",
      "Requirement already satisfied: ipython>=6.1.0 in d:\\softwares\\python\\lib\\site-packages (from ipywidgets) (9.4.0)\n",
      "Requirement already satisfied: traitlets>=4.3.1 in d:\\softwares\\python\\lib\\site-packages (from ipywidgets) (5.14.3)\n",
      "Requirement already satisfied: widgetsnbextension~=4.0.14 in d:\\softwares\\python\\lib\\site-packages (from ipywidgets) (4.0.14)\n",
      "Requirement already satisfied: jupyterlab_widgets~=3.0.15 in d:\\softwares\\python\\lib\\site-packages (from ipywidgets) (3.0.15)\n",
      "Requirement already satisfied: colorama in d:\\softwares\\python\\lib\\site-packages (from ipython>=6.1.0->ipywidgets) (0.4.6)\n",
      "Requirement already satisfied: decorator in d:\\softwares\\python\\lib\\site-packages (from ipython>=6.1.0->ipywidgets) (5.2.1)\n",
      "Requirement already satisfied: ipython-pygments-lexers in d:\\softwares\\python\\lib\\site-packages (from ipython>=6.1.0->ipywidgets) (1.1.1)\n",
      "Requirement already satisfied: jedi>=0.16 in d:\\softwares\\python\\lib\\site-packages (from ipython>=6.1.0->ipywidgets) (0.19.2)\n",
      "Requirement already satisfied: matplotlib-inline in d:\\softwares\\python\\lib\\site-packages (from ipython>=6.1.0->ipywidgets) (0.1.7)\n",
      "Requirement already satisfied: prompt_toolkit<3.1.0,>=3.0.41 in d:\\softwares\\python\\lib\\site-packages (from ipython>=6.1.0->ipywidgets) (3.0.51)\n",
      "Requirement already satisfied: pygments>=2.4.0 in d:\\softwares\\python\\lib\\site-packages (from ipython>=6.1.0->ipywidgets) (2.19.2)\n",
      "Requirement already satisfied: stack_data in d:\\softwares\\python\\lib\\site-packages (from ipython>=6.1.0->ipywidgets) (0.6.3)\n",
      "Requirement already satisfied: typing_extensions>=4.6 in d:\\softwares\\python\\lib\\site-packages (from ipython>=6.1.0->ipywidgets) (4.14.1)\n",
      "Requirement already satisfied: wcwidth in d:\\softwares\\python\\lib\\site-packages (from prompt_toolkit<3.1.0,>=3.0.41->ipython>=6.1.0->ipywidgets) (0.2.13)\n",
      "Requirement already satisfied: parso<0.9.0,>=0.8.4 in d:\\softwares\\python\\lib\\site-packages (from jedi>=0.16->ipython>=6.1.0->ipywidgets) (0.8.4)\n",
      "Requirement already satisfied: executing>=1.2.0 in d:\\softwares\\python\\lib\\site-packages (from stack_data->ipython>=6.1.0->ipywidgets) (2.2.0)\n",
      "Requirement already satisfied: asttokens>=2.1.0 in d:\\softwares\\python\\lib\\site-packages (from stack_data->ipython>=6.1.0->ipywidgets) (3.0.0)\n",
      "Requirement already satisfied: pure-eval in d:\\softwares\\python\\lib\\site-packages (from stack_data->ipython>=6.1.0->ipywidgets) (0.2.3)\n",
      "Note: you may need to restart the kernel to use updated packages.\n"
     ]
    }
   ],
   "source": [
    "%pip install ipywidgets"
   ]
  },
  {
   "cell_type": "code",
   "execution_count": 17,
   "id": "6cce509a-22ad-4830-b69e-8e257cf822ec",
   "metadata": {},
   "outputs": [
    {
     "data": {
      "application/vnd.jupyter.widget-view+json": {
       "model_id": "c531dd65626b474b9f7e195edfa33c1c",
       "version_major": 2,
       "version_minor": 0
      },
      "text/plain": [
       "IntSlider(value=0)"
      ]
     },
     "execution_count": 17,
     "metadata": {},
     "output_type": "execute_result"
    }
   ],
   "source": [
    "import ipywidgets as widgets\n",
    "widgets.IntSlider()"
   ]
  },
  {
   "cell_type": "code",
   "execution_count": 18,
   "id": "d07c82ea-546d-43b8-9811-06365593c375",
   "metadata": {},
   "outputs": [
    {
     "data": {
      "application/vnd.jupyter.widget-view+json": {
       "model_id": "ac45cb77d73a48d6a6876086a4369dd4",
       "version_major": 2,
       "version_minor": 0
      },
      "text/plain": [
       "Text(value='', description='Symptom:', layout=Layout(width='80%'), placeholder='Type or pick a symptom…')"
      ]
     },
     "metadata": {},
     "output_type": "display_data"
    },
    {
     "data": {
      "application/vnd.jupyter.widget-view+json": {
       "model_id": "be7c1701ee8a4c5c9d3c85563ba5d0a8",
       "version_major": 2,
       "version_minor": 0
      },
      "text/plain": [
       "Select(layout=Layout(width='80%'), options=(), rows=6, value=None)"
      ]
     },
     "metadata": {},
     "output_type": "display_data"
    },
    {
     "data": {
      "application/vnd.jupyter.widget-view+json": {
       "model_id": "78303ed71e554dc2b50642b41a2a42d7",
       "version_major": 2,
       "version_minor": 0
      },
      "text/plain": [
       "Button(button_style='success', description='Predict (English Group)', layout=Layout(height='50px', width='200p…"
      ]
     },
     "metadata": {},
     "output_type": "display_data"
    },
    {
     "data": {
      "application/vnd.jupyter.widget-view+json": {
       "model_id": "0ccd2b7af9d643669a25f5a5aef5dafb",
       "version_major": 2,
       "version_minor": 0
      },
      "text/plain": [
       "Output()"
      ]
     },
     "metadata": {},
     "output_type": "display_data"
    }
   ],
   "source": [
    "# Suggestions (clickable list) + Predict Disease Group (English) from CSV (exact match only)\n",
    "import pandas as pd, difflib\n",
    "import ipywidgets as widgets\n",
    "from IPython.display import display, Markdown\n",
    "\n",
    "# Load data\n",
    "df = pd.read_csv(\"data/symptoms.csv\")\n",
    "SYMPTOMS = sorted(set(df[\"Symptom\"].dropna().astype(str).tolist()))\n",
    "# map lowercase -> canonical symptom text\n",
    "SYMPTOM_LOOKUP = {s.strip().lower(): s for s in SYMPTOMS}\n",
    "\n",
    "# --- Suggestion helper (prefix + substring + fuzzy) ---\n",
    "def get_suggestions(query, k=12):\n",
    "    q = (query or \"\").strip().lower()\n",
    "    if not q:\n",
    "        return []\n",
    "    prefix = [s for s in SYMPTOMS if s.lower().startswith(q)]\n",
    "    substr = [s for s in SYMPTOMS if q in s.lower() and s not in prefix]\n",
    "    fuzzy  = difflib.get_close_matches(q, SYMPTOMS, n=k*2, cutoff=0.6)\n",
    "    fuzzy  = [s for s in fuzzy if s not in prefix and s not in substr]\n",
    "    # merge + dedup\n",
    "    out, seen = [], set()\n",
    "    for s in prefix + substr + fuzzy:\n",
    "        if s not in seen:\n",
    "            out.append(s); seen.add(s)\n",
    "        if len(out) >= k:\n",
    "            break\n",
    "    return out\n",
    "\n",
    "def resolve_exact(text):\n",
    "    return SYMPTOM_LOOKUP.get((text or \"\").strip().lower())\n",
    "\n",
    "# --- Widgets ---\n",
    "inp = widgets.Text(\n",
    "    placeholder=\"Type or pick a symptom…\",\n",
    "    description=\"Symptom:\",\n",
    "    layout=widgets.Layout(width=\"80%\")\n",
    ")\n",
    "# clickable suggestion list (no buttons)\n",
    "sugg_list = widgets.Select(options=[], rows=6, layout=widgets.Layout(width=\"80%\"))\n",
    "pred_btn = widgets.Button(\n",
    "    description=\"Predict (English Group)\",\n",
    "    button_style=\"success\",   # 'primary', 'success', 'info', 'warning', 'danger' or ''\n",
    "    layout=widgets.Layout(width=\"200px\", height=\"50px\")\n",
    ")\n",
    "\n",
    "out = widgets.Output()\n",
    "\n",
    "# --- Wire up interactions ---\n",
    "def on_text_change(change):\n",
    "    suggs = get_suggestions(change[\"new\"], k=12)\n",
    "    sugg_list.options = suggs\n",
    "\n",
    "def on_select_change(change):\n",
    "    # when user clicks a suggestion, fill the input box\n",
    "    if change[\"new\"]:\n",
    "        inp.value = change[\"new\"]\n",
    "\n",
    "def on_predict(_):\n",
    "    out.clear_output()\n",
    "    with out:\n",
    "        canon = resolve_exact(inp.value)\n",
    "        if not canon:\n",
    "            display(Markdown(\"> ⚠️ Please select a valid symptom from the list or type an exact symptom from the CSV.\"))\n",
    "            return\n",
    "        # exact row from CSV: show ONLY the English disease group\n",
    "        label = str(df.loc[df[\"Symptom\"] == canon, \"Disease group (English name)\"].iloc[0])\n",
    "        display(Markdown(f\"### 🧾 Disease Group (English)\\n**Symptom:** `{canon}`\\n**Result:** `{label}`\"))\n",
    "\n",
    "# Events\n",
    "inp.observe(on_text_change, names=\"value\")\n",
    "sugg_list.observe(on_select_change, names=\"value\")\n",
    "pred_btn.on_click(on_predict)\n",
    "\n",
    "# Initial render\n",
    "display(inp, sugg_list, pred_btn, out)\n"
   ]
  },
  {
   "cell_type": "code",
   "execution_count": 19,
   "id": "3b3cecca-d6ff-422a-b4bc-6726c43c539f",
   "metadata": {},
   "outputs": [
    {
     "data": {
      "application/vnd.jupyter.widget-view+json": {
       "model_id": "475f0f09820143b4a60273ea263fd5f6",
       "version_major": 2,
       "version_minor": 0
      },
      "text/plain": [
       "Text(value='', description='Symptom:', layout=Layout(width='80%'), placeholder='Type or pick a symptom…')"
      ]
     },
     "metadata": {},
     "output_type": "display_data"
    },
    {
     "data": {
      "application/vnd.jupyter.widget-view+json": {
       "model_id": "187d04968779413882cf75a6a4c4a1a0",
       "version_major": 2,
       "version_minor": 0
      },
      "text/plain": [
       "Select(layout=Layout(width='80%'), options=(), rows=6, value=None)"
      ]
     },
     "metadata": {},
     "output_type": "display_data"
    },
    {
     "data": {
      "application/vnd.jupyter.widget-view+json": {
       "model_id": "25d83cf9cb3348c98f53c6637f4e9b0e",
       "version_major": 2,
       "version_minor": 0
      },
      "text/plain": [
       "Button(button_style='success', description='Predict (Sinhala Group)', layout=Layout(height='50px', width='200p…"
      ]
     },
     "metadata": {},
     "output_type": "display_data"
    },
    {
     "data": {
      "application/vnd.jupyter.widget-view+json": {
       "model_id": "aec020d46e834848b5f237b58daf918e",
       "version_major": 2,
       "version_minor": 0
      },
      "text/plain": [
       "Output()"
      ]
     },
     "metadata": {},
     "output_type": "display_data"
    }
   ],
   "source": [
    "# Suggestions (clickable list) + Predict Disease Group (Sinhala) from CSV (exact match only)\n",
    "import pandas as pd, difflib\n",
    "import ipywidgets as widgets\n",
    "from IPython.display import display, Markdown\n",
    "\n",
    "# Load data\n",
    "df = pd.read_csv(\"data/symptoms.csv\")\n",
    "SYMPTOMS = sorted(set(df[\"Symptom\"].dropna().astype(str).tolist()))\n",
    "SYMPTOM_LOOKUP = {s.strip().lower(): s for s in SYMPTOMS}\n",
    "\n",
    "def get_suggestions(query, k=12):\n",
    "    q = (query or \"\").strip().lower()\n",
    "    if not q: return []\n",
    "    prefix = [s for s in SYMPTOMS if s.lower().startswith(q)]\n",
    "    substr = [s for s in SYMPTOMS if q in s.lower() and s not in prefix]\n",
    "    fuzzy  = difflib.get_close_matches(q, SYMPTOMS, n=k*2, cutoff=0.6)\n",
    "    fuzzy  = [s for s in fuzzy if s not in prefix and s not in substr]\n",
    "    out, seen = [], set()\n",
    "    for s in prefix + substr + fuzzy:\n",
    "        if s not in seen:\n",
    "            out.append(s); seen.add(s)\n",
    "        if len(out) >= k: break\n",
    "    return out\n",
    "\n",
    "def resolve_exact(text):\n",
    "    return SYMPTOM_LOOKUP.get((text or \"\").strip().lower())\n",
    "\n",
    "# Widgets\n",
    "inp_si = widgets.Text(placeholder=\"Type or pick a symptom…\", description=\"Symptom:\", layout=widgets.Layout(width=\"80%\"))\n",
    "sugg_list_si = widgets.Select(options=[], rows=6, layout=widgets.Layout(width=\"80%\"))\n",
    "pred_btn_si = widgets.Button(\n",
    "    description=\"Predict (Sinhala Group)\",\n",
    "    button_style=\"success\",   # 'primary', 'success', 'info', 'warning', 'danger' or ''\n",
    "    layout=widgets.Layout(width=\"200px\", height=\"50px\")\n",
    ")\n",
    "\n",
    "out_si = widgets.Output()\n",
    "\n",
    "def on_text_change_si(change):\n",
    "    sugg_list_si.options = get_suggestions(change[\"new\"], k=12)\n",
    "\n",
    "def on_select_change_si(change):\n",
    "    if change[\"new\"]:\n",
    "        inp_si.value = change[\"new\"]\n",
    "\n",
    "def on_predict_si(_):\n",
    "    out_si.clear_output()\n",
    "    with out_si:\n",
    "        canon = resolve_exact(inp_si.value)\n",
    "        if not canon:\n",
    "            display(Markdown(\"> ⚠️ Please select a valid symptom from the list or type an exact symptom from the CSV.\"))\n",
    "            return\n",
    "        label = str(df.loc[df[\"Symptom\"] == canon, \"Disease group (Sinhala name)\"].iloc[0])\n",
    "        display(Markdown(f\"### 🧾 Diease group(Sinahala)\\n**Symptom:** `{canon}`\\n**Result:** `{label}`\"))\n",
    "\n",
    "inp_si.observe(on_text_change_si, names=\"value\")\n",
    "sugg_list_si.observe(on_select_change_si, names=\"value\")\n",
    "pred_btn_si.on_click(on_predict_si)\n",
    "\n",
    "display(inp_si, sugg_list_si, pred_btn_si, out_si)\n"
   ]
  },
  {
   "cell_type": "code",
   "execution_count": 20,
   "id": "100e34f6-b8df-4de5-b1cf-9bdc767a3600",
   "metadata": {},
   "outputs": [
    {
     "data": {
      "application/vnd.jupyter.widget-view+json": {
       "model_id": "9ce82b6f0f224a46aaf3356be460b8c5",
       "version_major": 2,
       "version_minor": 0
      },
      "text/plain": [
       "Text(value='', description='Symptom:', layout=Layout(width='80%'), placeholder='Type or pick a symptom…')"
      ]
     },
     "metadata": {},
     "output_type": "display_data"
    },
    {
     "data": {
      "application/vnd.jupyter.widget-view+json": {
       "model_id": "83edfb752e234957b28e41f42b28d811",
       "version_major": 2,
       "version_minor": 0
      },
      "text/plain": [
       "Select(layout=Layout(width='80%'), options=(), rows=6, value=None)"
      ]
     },
     "metadata": {},
     "output_type": "display_data"
    },
    {
     "data": {
      "application/vnd.jupyter.widget-view+json": {
       "model_id": "a14e0acc88ca49b39b7a67ce7761ba5f",
       "version_major": 2,
       "version_minor": 0
      },
      "text/plain": [
       "Button(button_style='success', description='Predict (Disease)', layout=Layout(height='50px', width='200px'), s…"
      ]
     },
     "metadata": {},
     "output_type": "display_data"
    },
    {
     "data": {
      "application/vnd.jupyter.widget-view+json": {
       "model_id": "7f9cd8d1c4fd48e68ab611674b2c00bf",
       "version_major": 2,
       "version_minor": 0
      },
      "text/plain": [
       "Output()"
      ]
     },
     "metadata": {},
     "output_type": "display_data"
    }
   ],
   "source": [
    "# Suggestions (clickable list) + Predict Disease (Ayurveda) from CSV (exact match only)\n",
    "import pandas as pd, difflib\n",
    "import ipywidgets as widgets\n",
    "from IPython.display import display, Markdown\n",
    "\n",
    "# Load data\n",
    "df = pd.read_csv(\"data/symptoms.csv\")\n",
    "SYMPTOMS = sorted(set(df[\"Symptom\"].dropna().astype(str).tolist()))\n",
    "SYMPTOM_LOOKUP = {s.strip().lower(): s for s in SYMPTOMS}  # lowercase -> canonical\n",
    "\n",
    "def get_suggestions(query, k=12):\n",
    "    q = (query or \"\").strip().lower()\n",
    "    if not q:\n",
    "        return []\n",
    "    prefix = [s for s in SYMPTOMS if s.lower().startswith(q)]\n",
    "    substr = [s for s in SYMPTOMS if q in s.lower() and s not in prefix]\n",
    "    fuzzy  = difflib.get_close_matches(q, SYMPTOMS, n=k*2, cutoff=0.6)\n",
    "    fuzzy  = [s for s in fuzzy if s not in prefix and s not in substr]\n",
    "    # merge + dedup\n",
    "    out, seen = [], set()\n",
    "    for s in prefix + substr + fuzzy:\n",
    "        if s not in seen:\n",
    "            out.append(s); seen.add(s)\n",
    "        if len(out) >= k:\n",
    "            break\n",
    "    return out\n",
    "\n",
    "def resolve_exact(text):\n",
    "    return SYMPTOM_LOOKUP.get((text or \"\").strip().lower())\n",
    "\n",
    "# Widgets\n",
    "inp_dis = widgets.Text(\n",
    "    placeholder=\"Type or pick a symptom…\",\n",
    "    description=\"Symptom:\",\n",
    "    layout=widgets.Layout(width=\"80%\")\n",
    ")\n",
    "sugg_list_dis = widgets.Select(options=[], rows=6, layout=widgets.Layout(width=\"80%\"))\n",
    "pred_btn_dis = widgets.Button(\n",
    "    description=\"Predict (Disease)\",\n",
    "    button_style=\"success\",   # 'primary', 'success', 'info', 'warning', 'danger' or ''\n",
    "    layout=widgets.Layout(width=\"200px\", height=\"50px\")\n",
    ")\n",
    "\n",
    "out_dis = widgets.Output()\n",
    "\n",
    "def on_text_change_dis(change):\n",
    "    sugg_list_dis.options = get_suggestions(change[\"new\"], k=12)\n",
    "\n",
    "def on_select_change_dis(change):\n",
    "    if change[\"new\"]:\n",
    "        inp_dis.value = change[\"new\"]  # clicking suggestion fills input\n",
    "\n",
    "def on_predict_dis(_):\n",
    "    out_dis.clear_output()\n",
    "    with out_dis:\n",
    "        canon = resolve_exact(inp_dis.value)\n",
    "        if not canon:\n",
    "            display(Markdown(\"> ⚠️ Please select a valid symptom from the list or type an exact symptom from the CSV.\"))\n",
    "            return\n",
    "        # exact row from CSV: show ONLY the Disease (Ayurveda) column\n",
    "        label = str(df.loc[df[\"Symptom\"] == canon, \"Disease\"].iloc[0])\n",
    "        display(Markdown(f\"### 🧾 Disease (Ayurveda)\\n**Symptom:** `{canon}`\\n**Result:** `{label}`\"))\n",
    "\n",
    "# Wire up\n",
    "inp_dis.observe(on_text_change_dis, names=\"value\")\n",
    "sugg_list_dis.observe(on_select_change_dis, names=\"value\")\n",
    "pred_btn_dis.on_click(on_predict_dis)\n",
    "\n",
    "display(inp_dis, sugg_list_dis, pred_btn_dis, out_dis)\n"
   ]
  },
  {
   "cell_type": "code",
   "execution_count": 21,
   "id": "3f9e38bb-65ba-43e6-b34b-7410a14be26a",
   "metadata": {},
   "outputs": [
    {
     "data": {
      "application/vnd.jupyter.widget-view+json": {
       "model_id": "9e274b352965490690f7f1ed533ba311",
       "version_major": 2,
       "version_minor": 0
      },
      "text/plain": [
       "Text(value='', description='Symptom:', layout=Layout(width='80%'), placeholder='Type or pick a symptom…')"
      ]
     },
     "metadata": {},
     "output_type": "display_data"
    },
    {
     "data": {
      "application/vnd.jupyter.widget-view+json": {
       "model_id": "5c8f8f6a74964300984846e1c89c3dc6",
       "version_major": 2,
       "version_minor": 0
      },
      "text/plain": [
       "Select(layout=Layout(width='80%'), options=(), rows=6, value=None)"
      ]
     },
     "metadata": {},
     "output_type": "display_data"
    },
    {
     "data": {
      "application/vnd.jupyter.widget-view+json": {
       "model_id": "3f37509602654ab49ca71a0e605092e1",
       "version_major": 2,
       "version_minor": 0
      },
      "text/plain": [
       "Button(button_style='success', description='Predict (Dosha Type)', layout=Layout(height='50px', width='200px')…"
      ]
     },
     "metadata": {},
     "output_type": "display_data"
    },
    {
     "data": {
      "application/vnd.jupyter.widget-view+json": {
       "model_id": "83b2f090f5974a8d9bf53ca23bca92d2",
       "version_major": 2,
       "version_minor": 0
      },
      "text/plain": [
       "Output()"
      ]
     },
     "metadata": {},
     "output_type": "display_data"
    }
   ],
   "source": [
    "# Suggestions (clickable list) + Predict Dosha Type from CSV (exact match only)\n",
    "import pandas as pd, difflib\n",
    "import ipywidgets as widgets\n",
    "from IPython.display import display, Markdown\n",
    "\n",
    "# Load data\n",
    "df = pd.read_csv(\"data/symptoms.csv\")\n",
    "SYMPTOMS = sorted(set(df[\"Symptom\"].dropna().astype(str).tolist()))\n",
    "SYMPTOM_LOOKUP = {s.strip().lower(): s for s in SYMPTOMS}\n",
    "\n",
    "def get_suggestions(query, k=12):\n",
    "    q = (query or \"\").strip().lower()\n",
    "    if not q: return []\n",
    "    prefix = [s for s in SYMPTOMS if s.lower().startswith(q)]\n",
    "    substr = [s for s in SYMPTOMS if q in s.lower() and s not in prefix]\n",
    "    fuzzy  = difflib.get_close_matches(q, SYMPTOMS, n=k*2, cutoff=0.6)\n",
    "    fuzzy  = [s for s in fuzzy if s not in prefix and s not in substr]\n",
    "    out, seen = [], set()\n",
    "    for s in prefix + substr + fuzzy:\n",
    "        if s not in seen:\n",
    "            out.append(s); seen.add(s)\n",
    "        if len(out) >= k: break\n",
    "    return out\n",
    "\n",
    "def resolve_exact(text):\n",
    "    return SYMPTOM_LOOKUP.get((text or \"\").strip().lower())\n",
    "\n",
    "# Widgets\n",
    "inp_do = widgets.Text(placeholder=\"Type or pick a symptom…\", description=\"Symptom:\", layout=widgets.Layout(width=\"80%\"))\n",
    "sugg_list_do = widgets.Select(options=[], rows=6, layout=widgets.Layout(width=\"80%\"))\n",
    "pred_btn_do = widgets.Button(\n",
    "    description=\"Predict (Dosha Type)\",\n",
    "    button_style=\"success\",   # 'primary', 'success', 'info', 'warning', 'danger' or ''\n",
    "    layout=widgets.Layout(width=\"200px\", height=\"50px\")\n",
    ")\n",
    "\n",
    "out_do = widgets.Output()\n",
    "\n",
    "def on_text_change_do(change):\n",
    "    sugg_list_do.options = get_suggestions(change[\"new\"], k=12)\n",
    "\n",
    "def on_select_change_do(change):\n",
    "    if change[\"new\"]:\n",
    "        inp_do.value = change[\"new\"]\n",
    "\n",
    "def on_predict_do(_):\n",
    "    out_do.clear_output()\n",
    "    with out_do:\n",
    "        canon = resolve_exact(inp_do.value)\n",
    "        if not canon:\n",
    "            display(Markdown(\"> ⚠️ Please select a valid symptom from the list or type an exact symptom from the CSV.\"))\n",
    "            return\n",
    "        label = str(df.loc[df[\"Symptom\"] == canon, \"Dosha types\"].iloc[0])\n",
    "        display(Markdown(f\"### 🧾 Dosha Type\\n**Symptom:** `{canon}`\\n**Result:** `{label}`\"))\n",
    "\n",
    "inp_do.observe(on_text_change_do, names=\"value\")\n",
    "sugg_list_do.observe(on_select_change_do, names=\"value\")\n",
    "pred_btn_do.on_click(on_predict_do)\n",
    "\n",
    "display(inp_do, sugg_list_do, pred_btn_do, out_do)\n"
   ]
  },
  {
   "cell_type": "code",
   "execution_count": 22,
   "id": "9bef54ff-3544-4518-b1ba-e1495dd83a23",
   "metadata": {},
   "outputs": [
    {
     "data": {
      "application/vnd.jupyter.widget-view+json": {
       "model_id": "2c93d89ea8084f828625188fa9af2fb8",
       "version_major": 2,
       "version_minor": 0
      },
      "text/plain": [
       "Text(value='', description='Symptom:', layout=Layout(width='80%'), placeholder='Type or pick a symptom…')"
      ]
     },
     "metadata": {},
     "output_type": "display_data"
    },
    {
     "data": {
      "application/vnd.jupyter.widget-view+json": {
       "model_id": "c882fa0ac52247d9b8c7e9cc2449c345",
       "version_major": 2,
       "version_minor": 0
      },
      "text/plain": [
       "Select(layout=Layout(width='80%'), options=(), rows=6, value=None)"
      ]
     },
     "metadata": {},
     "output_type": "display_data"
    },
    {
     "data": {
      "application/vnd.jupyter.widget-view+json": {
       "model_id": "05c0a8120ed546e29792301dfcb7dfd3",
       "version_major": 2,
       "version_minor": 0
      },
      "text/plain": [
       "Button(button_style='success', description='Predict Risk', layout=Layout(height='55px', width='220px'), style=…"
      ]
     },
     "metadata": {},
     "output_type": "display_data"
    },
    {
     "data": {
      "application/vnd.jupyter.widget-view+json": {
       "model_id": "4b17381275b547f4bbbeb119720b0fcd",
       "version_major": 2,
       "version_minor": 0
      },
      "text/plain": [
       "Output()"
      ]
     },
     "metadata": {},
     "output_type": "display_data"
    }
   ],
   "source": [
    "# Suggestions (clickable list) + Predict full risk (EN group + Dosha + weights + score + level)\n",
    "import pandas as pd, difflib\n",
    "import ipywidgets as widgets\n",
    "from IPython.display import display, Markdown\n",
    "\n",
    "# ---------------------------\n",
    "# Load data\n",
    "# ---------------------------\n",
    "df = pd.read_csv(\"data/symptoms.csv\")\n",
    "SYMPTOMS = sorted(set(df[\"Symptom\"].dropna().astype(str).tolist()))\n",
    "SYMPTOM_LOOKUP = {s.strip().lower(): s for s in SYMPTOMS}  # lowercase -> canonical\n",
    "\n",
    "# ---------------------------\n",
    "# Weights (0–10) aligned to your CSV Disease Groups + Doshas\n",
    "# ---------------------------\n",
    "disease_group_weight = {\n",
    "    \"Incurable\": 10,\n",
    "    \"Cardio-blood\": 9,\n",
    "    \"Respiratory\": 9,\n",
    "    \"Mental\": 8,\n",
    "    \"Nervous\": 8,\n",
    "    \"Digestive\": 7,\n",
    "    \"Musculoskeletal\": 7,\n",
    "    \"Urinary\": 7,\n",
    "    \"Reproductive – female\": 7,\n",
    "    \"Reproductive – male\": 7,\n",
    "    \"Congenital\": 6,\n",
    "    \"Obesity\": 6,\n",
    "    \"Over-nutrition\": 6,\n",
    "    \"Under-nutrition\": 6,\n",
    "    \"Internal\": 5,\n",
    "    \"Endogenous\": 5,\n",
    "    \"Exogenous\": 5,\n",
    "    \"Somatic\": 5,\n",
    "    \"Psychosomatic\": 5,\n",
    "    \"Seasonal\": 4,\n",
    "    \"Sweat\": 4,\n",
    "    \"Natural\": 4,\n",
    "    \"External\": 4,\n",
    "    \"Middle\": 4,\n",
    "    \"Hereditary\": 3,\n",
    "    \"thermoregulation\": 3,\n",
    "    \"Curable\": 2,\n",
    "    \"Metabolic\": 2,\n",
    "}\n",
    "\n",
    "dosha_weight = {\n",
    "    \"Tridosha\": 9,\n",
    "    \"Pitta and Kapha\": 8,\n",
    "    \"Vata and Pitta\": 7,\n",
    "    \"Vata and Kapha\": 7,\n",
    "    \"Pitta\": 6,\n",
    "    \"Vata\": 5,\n",
    "    \"Kapha\": 4,\n",
    "}\n",
    "\n",
    "W_GROUP = 0.6   # weight in formula for disease group severity\n",
    "W_DOSHA = 0.4   # weight in formula for dosha modulation\n",
    "\n",
    "# ---------------------------\n",
    "# Helpers\n",
    "# ---------------------------\n",
    "def resolve_exact(text: str):\n",
    "    return SYMPTOM_LOOKUP.get((text or \"\").strip().lower())\n",
    "\n",
    "def risk_level_from_score(score: float):\n",
    "    if score < 4:\n",
    "        return \"🟢 Low Risk\"\n",
    "    elif score < 7:\n",
    "        return \"🟠 Medium Risk\"\n",
    "    else:\n",
    "        return \"🔴 High Risk\"\n",
    "\n",
    "def compute_risk_for_symptom(symptom_text: str, w_group=W_GROUP, w_dosha=W_DOSHA):\n",
    "    \"\"\"Exact match lookup from CSV. Returns dict with all required fields.\"\"\"\n",
    "    canon = resolve_exact(symptom_text)\n",
    "    if not canon:\n",
    "        return {\"found\": False, \"message\": \"Symptom not found. Please select from suggestions or type exact.\"}\n",
    "\n",
    "    row = df.loc[df[\"Symptom\"] == canon].iloc[0]\n",
    "    disease_name = str(row[\"Disease\"])  # Ayurveda disease name column\n",
    "    group_en = str(row[\"Disease group (English name)\"])\n",
    "    group_si = str(row[\"Disease group (Sinhala name)\"])\n",
    "    dosha = str(row[\"Dosha types\"])\n",
    "\n",
    "    g_w = float(disease_group_weight.get(group_en, 0.0))\n",
    "    d_w = float(dosha_weight.get(dosha, 0.0))\n",
    "\n",
    "    score = round(w_group * g_w + w_dosha * d_w, 2)\n",
    "    level = risk_level_from_score(score)\n",
    "\n",
    "    return {\n",
    "        \"found\": True,\n",
    "        \"symptom\": canon,\n",
    "        \"disease_name\": disease_name,\n",
    "        \"disease_group_en\": group_en,\n",
    "        \"disease_group_si\": group_si,\n",
    "        \"dosha\": dosha,\n",
    "        \"group_weight\": g_w,\n",
    "        \"dosha_weight\": d_w,\n",
    "        \"formula\": f\"Risk = {w_group}×{g_w} + {w_dosha}×{d_w}\",\n",
    "        \"risk_score_0_10\": score,\n",
    "        \"risk_level\": level\n",
    "    }\n",
    "\n",
    "def get_suggestions(query, k=12):\n",
    "    q = (query or \"\").strip().lower()\n",
    "    if not q:\n",
    "        return []\n",
    "    prefix = [s for s in SYMPTOMS if s.lower().startswith(q)]\n",
    "    substr = [s for s in SYMPTOMS if q in s.lower() and s not in prefix]\n",
    "    fuzzy  = difflib.get_close_matches(q, SYMPTOMS, n=k*2, cutoff=0.6)\n",
    "    fuzzy  = [s for s in fuzzy if s not in prefix and s not in substr]\n",
    "    # merge + dedup\n",
    "    out, seen = [], set()\n",
    "    for s in prefix + substr + fuzzy:\n",
    "        if s not in seen:\n",
    "            out.append(s); seen.add(s)\n",
    "        if len(out) >= k:\n",
    "            break\n",
    "    return out\n",
    "\n",
    "# ---------------------------\n",
    "# Widgets (styled Predict button)\n",
    "# ---------------------------\n",
    "inp = widgets.Text(\n",
    "    placeholder=\"Type or pick a symptom…\",\n",
    "    description=\"Symptom:\",\n",
    "    layout=widgets.Layout(width=\"80%\")\n",
    ")\n",
    "sugg_list = widgets.Select(options=[], rows=6, layout=widgets.Layout(width=\"80%\"))\n",
    "\n",
    "pred_btn = widgets.Button(\n",
    "    description=\"Predict Risk\",\n",
    "    button_style=\"success\",\n",
    "    layout=widgets.Layout(width=\"220px\", height=\"55px\")\n",
    ")\n",
    "pred_btn.style.button_color = \"#4CAF50\"\n",
    "\n",
    "out = widgets.Output()\n",
    "\n",
    "# ---------------------------\n",
    "# Wire up interactions\n",
    "# ---------------------------\n",
    "def on_text_change(change):\n",
    "    sugg_list.options = get_suggestions(change[\"new\"], k=12)\n",
    "\n",
    "def on_select_change(change):\n",
    "    if change[\"new\"]:\n",
    "        inp.value = change[\"new\"]\n",
    "\n",
    "def on_predict(_):\n",
    "    out.clear_output()\n",
    "    with out:\n",
    "        res = compute_risk_for_symptom(inp.value)\n",
    "        if not res.get(\"found\"):\n",
    "            display(Markdown(\"> ⚠️ Please select a valid symptom from the list or type an exact symptom from the CSV.\"))\n",
    "            return\n",
    "\n",
    "        display(Markdown(\n",
    "f\"\"\"### 🧾 Risk Assessment\n",
    "**Symptom:** `{res['symptom']}`  \n",
    "**Disease Name (Ayurveda):** `{res['disease_name']}`  \n",
    "**Disease Group (English):** `{res['disease_group_en']}`  \n",
    "**Disease Group (Sinhala):** `{res['disease_group_si']}`  \n",
    "**Dosha Type:** `{res['dosha']}`  \n",
    "\n",
    "**Disease Group Weight:** `{res['group_weight']}`  \n",
    "**Dosha Weight:** `{res['dosha_weight']}`  \n",
    "\n",
    "**How Risk is Calculated:** `{res['formula']}`  \n",
    "**Risk Score (0–10):** `{res['risk_score_0_10']}`  \n",
    "**Risk Level:** **{res['risk_level']}**\"\"\"\n",
    "        ))\n",
    "\n",
    "# Events\n",
    "inp.observe(on_text_change, names=\"value\")\n",
    "sugg_list.observe(on_select_change, names=\"value\")\n",
    "pred_btn.on_click(on_predict)\n",
    "\n",
    "# Render\n",
    "display(inp, sugg_list, pred_btn, out)"
   ]
  },
  {
   "cell_type": "code",
   "execution_count": null,
   "id": "17dab199-655f-4c8c-8ea7-950e7e4d98e8",
   "metadata": {},
   "outputs": [],
   "source": []
  }
 ],
 "metadata": {
  "kernelspec": {
   "display_name": "Python 3 (ipykernel)",
   "language": "python",
   "name": "python3"
  },
  "language_info": {
   "codemirror_mode": {
    "name": "ipython",
    "version": 3
   },
   "file_extension": ".py",
   "mimetype": "text/x-python",
   "name": "python",
   "nbconvert_exporter": "python",
   "pygments_lexer": "ipython3",
   "version": "3.11.9"
  }
 },
 "nbformat": 4,
 "nbformat_minor": 5
}
